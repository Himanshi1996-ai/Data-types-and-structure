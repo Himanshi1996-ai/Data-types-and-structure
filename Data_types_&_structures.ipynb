{
  "nbformat": 4,
  "nbformat_minor": 0,
  "metadata": {
    "colab": {
      "provenance": []
    },
    "kernelspec": {
      "name": "python3",
      "display_name": "Python 3"
    },
    "language_info": {
      "name": "python"
    }
  },
  "cells": [
    {
      "cell_type": "markdown",
      "source": [
        "## **Assignment Solutions - Data Types & Structures**"
      ],
      "metadata": {
        "id": "m9ijIdJ9qmCo"
      }
    },
    {
      "cell_type": "markdown",
      "source": [
        "**Q: What are data structures, and why are they important?**"
      ],
      "metadata": {
        "id": "8mDacs5xfbHL"
      }
    },
    {
      "cell_type": "markdown",
      "source": [
        "A: Data structures are ways to organize and store data so that it can be accessed and modified\n",
        "efficiently. They are important because they affect performance, memory usage, and the complexity\n",
        "of algorithms."
      ],
      "metadata": {
        "id": "ts9IW2Ecfjzm"
      }
    },
    {
      "cell_type": "markdown",
      "source": [
        " **Q: Explain the difference between mutable and immutable data types with\n",
        "examples?**"
      ],
      "metadata": {
        "id": "lJ_53-W0foaR"
      }
    },
    {
      "cell_type": "markdown",
      "source": [
        "A: Mutable types (e.g., list, dict, set) can be changed after creation. Immutable types (e.g., int, float,\n",
        "str, tuple) cannot be altered; any 'change' creates a new object."
      ],
      "metadata": {
        "id": "hYg_L1WQfsbG"
      }
    },
    {
      "cell_type": "markdown",
      "source": [
        "**Q: What are the main differences between lists and tuples in Python?**"
      ],
      "metadata": {
        "id": "LRiXbzUFfwGV"
      }
    },
    {
      "cell_type": "markdown",
      "source": [
        "A: Lists are mutable, support dynamic resizing, and have many methods (append, pop). Tuples are\n",
        "immutable, can be used as keys in dictionaries (if they contain immutables), and typically have a\n",
        "smaller memory footprint."
      ],
      "metadata": {
        "id": "9Sjf9AKXfzwj"
      }
    },
    {
      "cell_type": "markdown",
      "source": [
        "**Q: Describe how dictionaries store data?**"
      ],
      "metadata": {
        "id": "h6w55YT-f40f"
      }
    },
    {
      "cell_type": "markdown",
      "source": [
        "A: Dictionaries store data as key-value pairs using a hash table internally. Keys are hashed to\n",
        "determine where values are stored, enabling average O(1) access time."
      ],
      "metadata": {
        "id": "hGHC2P8Zf8XW"
      }
    },
    {
      "cell_type": "markdown",
      "source": [
        "**Q: Why might you use a set instead of a list in Python?**"
      ],
      "metadata": {
        "id": "2pYOmJm-f_v7"
      }
    },
    {
      "cell_type": "markdown",
      "source": [
        "A: Sets automatically remove duplicates and provide fast membership testing (average O(1)),\n",
        "making them ideal when uniqueness or fast lookups are needed."
      ],
      "metadata": {
        "id": "De_a4sobgB2U"
      }
    },
    {
      "cell_type": "markdown",
      "source": [
        "**Q: What is a string in Python, and how is it different from a list?**"
      ],
      "metadata": {
        "id": "C1Ol2bXWgEjG"
      }
    },
    {
      "cell_type": "markdown",
      "source": [
        "A: A string is an immutable sequence of characters. Unlike lists, strings cannot be modified in-place\n",
        "and support string-specific methods (split, join, replace)."
      ],
      "metadata": {
        "id": "eLSILqq8gHKI"
      }
    },
    {
      "cell_type": "markdown",
      "source": [
        "**Q: How do tuples ensure data integrity in Python?**"
      ],
      "metadata": {
        "id": "vLfNoJAHgKih"
      }
    },
    {
      "cell_type": "markdown",
      "source": [
        "A: Tuples are immutable, so once created their contents cannot change, which helps maintain\n",
        "consistent state for data that should not be modified."
      ],
      "metadata": {
        "id": "zHk4JNn1gNeb"
      }
    },
    {
      "cell_type": "markdown",
      "source": [
        "**Q: What is a hash table, and how does it relate to dictionaries in Python?**"
      ],
      "metadata": {
        "id": "-Re_aHssgP04"
      }
    },
    {
      "cell_type": "markdown",
      "source": [
        "A: A hash table is a data structure that maps keys to values using a hash function. Python\n",
        "dictionaries are implemented using hash tables."
      ],
      "metadata": {
        "id": "NuiEMJUrgTzb"
      }
    },
    {
      "cell_type": "markdown",
      "source": [
        "**Q: Can lists contain different data types in Python?**"
      ],
      "metadata": {
        "id": "vs_zwkpwgep5"
      }
    },
    {
      "cell_type": "markdown",
      "source": [
        "A: Yes, lists are heterogeneous and can contain elements of different types within the same list."
      ],
      "metadata": {
        "id": "UWeGMDougkMH"
      }
    },
    {
      "cell_type": "markdown",
      "source": [
        "**Q: Explain why strings are immutable in Python?**"
      ],
      "metadata": {
        "id": "noy9J1ZOglD-"
      }
    },
    {
      "cell_type": "markdown",
      "source": [
        "A: Strings are immutable to make them hashable (so they can be dictionary keys), to simplify\n",
        "memory management, and to avoid unexpected side-effects when sharing string objects."
      ],
      "metadata": {
        "id": "aAc64LSlgtW5"
      }
    },
    {
      "cell_type": "markdown",
      "source": [
        "**Q: What advantages do dictionaries offer over lists for certain tasks?**"
      ],
      "metadata": {
        "id": "tgVKsQgmgz4R"
      }
    },
    {
      "cell_type": "markdown",
      "source": [
        "A: Dictionaries provide O(1) average-time lookup by key and explicit mapping between keys and\n",
        "values, which is more efficient than searching a list when you need direct access."
      ],
      "metadata": {
        "id": "JbaOuN6BkAch"
      }
    },
    {
      "cell_type": "markdown",
      "source": [
        "**Q: Describe a scenario where using a tuple would be preferable over a list?**"
      ],
      "metadata": {
        "id": "DXqA3VS-kDI_"
      }
    },
    {
      "cell_type": "markdown",
      "source": [
        "A: Use a tuple for fixed records like coordinates (x, y) or function return values that should not be\n",
        "modified."
      ],
      "metadata": {
        "id": "4q5PNruEkIGr"
      }
    },
    {
      "cell_type": "markdown",
      "source": [
        "**Q: How do sets handle duplicate values in Python?**"
      ],
      "metadata": {
        "id": "kri8eaxWkMx4"
      }
    },
    {
      "cell_type": "markdown",
      "source": [
        "A: Sets automatically discard duplicates; adding an already-present element has no effect."
      ],
      "metadata": {
        "id": "_wL0PmCNk2aU"
      }
    },
    {
      "cell_type": "markdown",
      "source": [
        "**Q: How does the 'in' keyword work differently for lists and dictionaries?**"
      ],
      "metadata": {
        "id": "rZB7PBV4k39H"
      }
    },
    {
      "cell_type": "markdown",
      "source": [
        "A: 'in' checks for membership in a list by scanning elements (O(n)). For dictionaries, 'in' checks keys\n",
        "using the hash table (average O(1))."
      ],
      "metadata": {
        "id": "laHr_TSJk7BW"
      }
    },
    {
      "cell_type": "markdown",
      "source": [
        "**Q: Can you modify the elements of a tuple? Explain why or why not?**"
      ],
      "metadata": {
        "id": "WEXKLY3Gk71M"
      }
    },
    {
      "cell_type": "markdown",
      "source": [
        "A: No — tuples are immutable. You cannot change elements in-place; you must create a new tuple\n",
        "if you need a modified sequence."
      ],
      "metadata": {
        "id": "NFu9S8Jrk_Ex"
      }
    },
    {
      "cell_type": "markdown",
      "source": [
        "**Q: What is a nested dictionary, and give an example of its use case?**"
      ],
      "metadata": {
        "id": "jF1YugmMlAxF"
      }
    },
    {
      "cell_type": "markdown",
      "source": [
        "A: A nested dictionary is a dictionary containing other dictionaries as values. Use-case: storing\n",
        "structured data like user profiles: users = {1: {'name':'A','age':22}, 2: {'name':'B','age':25}}."
      ],
      "metadata": {
        "id": "ZKzURxwGlDQu"
      }
    },
    {
      "cell_type": "markdown",
      "source": [
        "**Q: Describe the time complexity of accessing elements in a dictionary?**"
      ],
      "metadata": {
        "id": "0jXCr_silKWP"
      }
    },
    {
      "cell_type": "markdown",
      "source": [
        "A: Average-case O(1) for lookup, insertion, and deletion; worst-case can degrade depending on\n",
        "hash collisions but Python mitigates this."
      ],
      "metadata": {
        "id": "SR5cGnt8lrBt"
      }
    },
    {
      "cell_type": "markdown",
      "source": [
        "**Q: In what situations are lists preferred over dictionaries?**"
      ],
      "metadata": {
        "id": "UUSWCXb1luwg"
      }
    },
    {
      "cell_type": "markdown",
      "source": [
        "A: Lists are preferred for ordered collections, when you need slicing, when duplicate elements are\n",
        "allowed, or when iteration order matters."
      ],
      "metadata": {
        "id": "qZDn3Qdvlx51"
      }
    },
    {
      "cell_type": "markdown",
      "source": [
        " **Q: Why are dictionaries considered unordered, and how does that affect data\n",
        "retrieval?**"
      ],
      "metadata": {
        "id": "yf7A6zqClyvY"
      }
    },
    {
      "cell_type": "markdown",
      "source": [
        "A: Historically dictionaries were unordered, but since Python 3.7 they preserve insertion order. They\n",
        "are optimized for key-based access, not positional indexing."
      ],
      "metadata": {
        "id": "usNw4QXhl0YP"
      }
    },
    {
      "cell_type": "markdown",
      "source": [
        " **bQ: Explain the difference between a list and a dictionary in terms of data\n",
        "retrieval?**"
      ],
      "metadata": {
        "id": "twSNFhGDl3gn"
      }
    },
    {
      "cell_type": "markdown",
      "source": [
        "A: Lists retrieve by index (position), while dictionaries retrieve by key (content). Lists are O(1) for\n",
        "index access but O(n) to search by value; dictionaries are O(1) average to fetch by key"
      ],
      "metadata": {
        "id": "PbmonQ3Il6yc"
      }
    },
    {
      "cell_type": "markdown",
      "source": [
        "#                      **Practical     Questions - Code**"
      ],
      "metadata": {
        "id": "AkLNu6_HmIxW"
      }
    },
    {
      "cell_type": "markdown",
      "source": [
        "**Create a string with your name and print it**"
      ],
      "metadata": {
        "id": "mr0iMOQ-mWnd"
      }
    },
    {
      "cell_type": "code",
      "source": [
        "name = \"Himanshi\"\n",
        "print(name)"
      ],
      "metadata": {
        "colab": {
          "base_uri": "https://localhost:8080/"
        },
        "id": "15b9xZi5maJJ",
        "outputId": "4bf195e9-bd8f-4008-e03d-b8fc04bbccd7"
      },
      "execution_count": 1,
      "outputs": [
        {
          "output_type": "stream",
          "name": "stdout",
          "text": [
            "Himanshi\n"
          ]
        }
      ]
    },
    {
      "cell_type": "markdown",
      "source": [
        "**Find the length of the string 'Hello World'**"
      ],
      "metadata": {
        "id": "im1VrnTPmi-R"
      }
    },
    {
      "cell_type": "code",
      "source": [
        "s = \"Hello World\"\n",
        "print(len(s))"
      ],
      "metadata": {
        "colab": {
          "base_uri": "https://localhost:8080/"
        },
        "id": "pfz4GV0YmmY-",
        "outputId": "f560d230-9e6d-4481-ddcc-9734f16fdde3"
      },
      "execution_count": 2,
      "outputs": [
        {
          "output_type": "stream",
          "name": "stdout",
          "text": [
            "11\n"
          ]
        }
      ]
    },
    {
      "cell_type": "markdown",
      "source": [
        "**Slice the first 3 characters from 'Python Programming'**"
      ],
      "metadata": {
        "id": "ZDxLTJC9mqeP"
      }
    },
    {
      "cell_type": "code",
      "execution_count": 3,
      "metadata": {
        "colab": {
          "base_uri": "https://localhost:8080/"
        },
        "id": "pa6Ddt2WfNNm",
        "outputId": "e591a7f4-4278-4868-a363-4c5232346c3c"
      },
      "outputs": [
        {
          "output_type": "stream",
          "name": "stdout",
          "text": [
            "Pyt\n"
          ]
        }
      ],
      "source": [
        "s = \"Python Programming\"\n",
        "print(s[:3])"
      ]
    },
    {
      "cell_type": "markdown",
      "source": [
        "**Convert the string 'hello' to uppercase**"
      ],
      "metadata": {
        "id": "pLYSHunxmxqS"
      }
    },
    {
      "cell_type": "code",
      "source": [
        "print(\"hello\".upper())"
      ],
      "metadata": {
        "colab": {
          "base_uri": "https://localhost:8080/"
        },
        "id": "5IL3tV_qmydi",
        "outputId": "e4d7ef5e-9a27-448c-98be-fa0431250f86"
      },
      "execution_count": 4,
      "outputs": [
        {
          "output_type": "stream",
          "name": "stdout",
          "text": [
            "HELLO\n"
          ]
        }
      ]
    },
    {
      "cell_type": "markdown",
      "source": [
        "**Replace 'apple' with 'orange' in 'I like apple'**"
      ],
      "metadata": {
        "id": "98UEL1YLm5Fv"
      }
    },
    {
      "cell_type": "code",
      "source": [
        "s = \"I like apple\"\n",
        "print(s.replace(\"apple\", \"orange\"))"
      ],
      "metadata": {
        "colab": {
          "base_uri": "https://localhost:8080/"
        },
        "id": "CE6GRCNCm7jo",
        "outputId": "bcc77d90-dded-4ee4-fe80-d41d3a566533"
      },
      "execution_count": 5,
      "outputs": [
        {
          "output_type": "stream",
          "name": "stdout",
          "text": [
            "I like orange\n"
          ]
        }
      ]
    },
    {
      "cell_type": "markdown",
      "source": [
        "**Create a list with numbers 1 to 5 and print it**"
      ],
      "metadata": {
        "id": "uqnVMCqfm_Rb"
      }
    },
    {
      "cell_type": "code",
      "source": [
        "lst = [1, 2, 3, 4, 5]\n",
        "print(lst)"
      ],
      "metadata": {
        "colab": {
          "base_uri": "https://localhost:8080/"
        },
        "id": "OsuZMlCLm_u6",
        "outputId": "b5176f9c-8569-4f4c-a8cc-6fd1cd67b0b1"
      },
      "execution_count": 6,
      "outputs": [
        {
          "output_type": "stream",
          "name": "stdout",
          "text": [
            "[1, 2, 3, 4, 5]\n"
          ]
        }
      ]
    },
    {
      "cell_type": "markdown",
      "source": [
        "**Append the number 10 to the list [1, 2, 3, 4]**"
      ],
      "metadata": {
        "id": "jENrfZ8VnAC6"
      }
    },
    {
      "cell_type": "code",
      "source": [
        "lst = [1, 2, 3, 4]\n",
        "lst.append(10)\n",
        "print(lst)"
      ],
      "metadata": {
        "colab": {
          "base_uri": "https://localhost:8080/"
        },
        "id": "I7zJVaY4nAqP",
        "outputId": "feb9235a-793f-4e7e-d1ca-d3667c2fd6e7"
      },
      "execution_count": 7,
      "outputs": [
        {
          "output_type": "stream",
          "name": "stdout",
          "text": [
            "[1, 2, 3, 4, 10]\n"
          ]
        }
      ]
    },
    {
      "cell_type": "markdown",
      "source": [
        "**Remove the number 3 from the list [1, 2, 3, 4, 5]**"
      ],
      "metadata": {
        "id": "41JTBEkOnNy_"
      }
    },
    {
      "cell_type": "code",
      "source": [
        "lst = [1, 2, 3, 4, 5]\n",
        "lst.remove(3)\n",
        "print(lst)"
      ],
      "metadata": {
        "colab": {
          "base_uri": "https://localhost:8080/"
        },
        "id": "YCQr0Y11nOI6",
        "outputId": "87754062-c0de-489e-ece3-6be799b073eb"
      },
      "execution_count": 8,
      "outputs": [
        {
          "output_type": "stream",
          "name": "stdout",
          "text": [
            "[1, 2, 4, 5]\n"
          ]
        }
      ]
    },
    {
      "cell_type": "markdown",
      "source": [
        "**Access the second element in the list ['a', 'b', 'c', 'd']**"
      ],
      "metadata": {
        "id": "KjrBcDaxnOnV"
      }
    },
    {
      "cell_type": "code",
      "source": [
        "lst = ['a','b','c','d']\n",
        "print(lst[1])"
      ],
      "metadata": {
        "colab": {
          "base_uri": "https://localhost:8080/"
        },
        "id": "ic4HK2O3nPCh",
        "outputId": "130ef6b0-5d0a-47d5-a8c0-2f09baae5806"
      },
      "execution_count": 9,
      "outputs": [
        {
          "output_type": "stream",
          "name": "stdout",
          "text": [
            "b\n"
          ]
        }
      ]
    },
    {
      "cell_type": "markdown",
      "source": [
        "**Reverse the list [10, 20, 30, 40, 50]**"
      ],
      "metadata": {
        "id": "OJRLT3janPZm"
      }
    },
    {
      "cell_type": "code",
      "source": [
        "lst = [10,20,30,40,50]\n",
        "lst.reverse()\n",
        "print(lst)"
      ],
      "metadata": {
        "colab": {
          "base_uri": "https://localhost:8080/"
        },
        "id": "Dw3OZsd6nPwR",
        "outputId": "6b206799-20a1-4e3a-8f87-4c819e979e16"
      },
      "execution_count": 10,
      "outputs": [
        {
          "output_type": "stream",
          "name": "stdout",
          "text": [
            "[50, 40, 30, 20, 10]\n"
          ]
        }
      ]
    },
    {
      "cell_type": "markdown",
      "source": [
        "**Create a tuple with elements 100, 200, 300 and print it**"
      ],
      "metadata": {
        "id": "4rz3ru4LnQGA"
      }
    },
    {
      "cell_type": "code",
      "source": [
        "t = (100, 200, 300)\n",
        "print(t)"
      ],
      "metadata": {
        "colab": {
          "base_uri": "https://localhost:8080/"
        },
        "id": "X3-F7Xq-nRAs",
        "outputId": "0da3ed75-c927-47d2-d5eb-1d4a3df5cb9a"
      },
      "execution_count": 11,
      "outputs": [
        {
          "output_type": "stream",
          "name": "stdout",
          "text": [
            "(100, 200, 300)\n"
          ]
        }
      ]
    },
    {
      "cell_type": "markdown",
      "source": [
        "**Access the second-to-last element of ('red','green','blue','yellow')**"
      ],
      "metadata": {
        "id": "40jQNaz7non4"
      }
    },
    {
      "cell_type": "code",
      "source": [
        "t = ('red','green','blue','yellow')\n",
        "print(t[-2])"
      ],
      "metadata": {
        "colab": {
          "base_uri": "https://localhost:8080/"
        },
        "id": "89pt03hwnp_H",
        "outputId": "a82568a9-0ebd-477a-f172-af2237631e5a"
      },
      "execution_count": 12,
      "outputs": [
        {
          "output_type": "stream",
          "name": "stdout",
          "text": [
            "blue\n"
          ]
        }
      ]
    },
    {
      "cell_type": "markdown",
      "source": [
        "**Find the minimum number in (10,20,5,15)**"
      ],
      "metadata": {
        "id": "eex2r4oXnqVy"
      }
    },
    {
      "cell_type": "code",
      "source": [
        "t = (10,20,5,15)\n",
        "print(min(t))"
      ],
      "metadata": {
        "colab": {
          "base_uri": "https://localhost:8080/"
        },
        "id": "6ys0V4Mmnquh",
        "outputId": "4c1a33cf-e3bb-472b-f93a-4b02322fc99a"
      },
      "execution_count": 13,
      "outputs": [
        {
          "output_type": "stream",
          "name": "stdout",
          "text": [
            "5\n"
          ]
        }
      ]
    },
    {
      "cell_type": "markdown",
      "source": [
        "**Find the index of 'cat' in ('dog','cat','rabbit')**"
      ],
      "metadata": {
        "id": "952mDEBloGJM"
      }
    },
    {
      "cell_type": "code",
      "source": [
        "t = ('dog','cat','rabbit')\n",
        "print(t.index('cat'))"
      ],
      "metadata": {
        "colab": {
          "base_uri": "https://localhost:8080/"
        },
        "id": "MlfWCG8QoJHb",
        "outputId": "ef40208b-92f6-4e44-d178-36dead019f4f"
      },
      "execution_count": 14,
      "outputs": [
        {
          "output_type": "stream",
          "name": "stdout",
          "text": [
            "1\n"
          ]
        }
      ]
    },
    {
      "cell_type": "markdown",
      "source": [
        "**Create a tuple containing three fruits and check if 'kiwi' is in it**"
      ],
      "metadata": {
        "id": "Az-KqmaKoNgf"
      }
    },
    {
      "cell_type": "code",
      "source": [
        "t = ('apple','banana','mango')\n",
        "print('kiwi' in t)"
      ],
      "metadata": {
        "colab": {
          "base_uri": "https://localhost:8080/"
        },
        "id": "b7z3W-BCoOct",
        "outputId": "fb046cd5-0d5e-48eb-a778-6cf146efe12a"
      },
      "execution_count": 15,
      "outputs": [
        {
          "output_type": "stream",
          "name": "stdout",
          "text": [
            "False\n"
          ]
        }
      ]
    },
    {
      "cell_type": "markdown",
      "source": [
        "**Create a set with elements 'a','b','c' and print it**"
      ],
      "metadata": {
        "id": "E8Lj593hoY-V"
      }
    },
    {
      "cell_type": "code",
      "source": [
        "s = {'a','b','c'}\n",
        "print(s)"
      ],
      "metadata": {
        "colab": {
          "base_uri": "https://localhost:8080/"
        },
        "id": "NtcUGDHroZWC",
        "outputId": "0831b030-73d6-4b47-f3ec-9643772e405f"
      },
      "execution_count": 16,
      "outputs": [
        {
          "output_type": "stream",
          "name": "stdout",
          "text": [
            "{'c', 'a', 'b'}\n"
          ]
        }
      ]
    },
    {
      "cell_type": "markdown",
      "source": [
        "**Clear all elements from the set {1,2,3,4,5}**"
      ],
      "metadata": {
        "id": "uR1v531WoZot"
      }
    },
    {
      "cell_type": "code",
      "source": [
        "a = {1,2,3,4,5}\n",
        "a.clear()\n",
        "print(a)"
      ],
      "metadata": {
        "colab": {
          "base_uri": "https://localhost:8080/"
        },
        "id": "ERcrhGYtoZ9n",
        "outputId": "840f340b-39e2-4426-ec72-ca8a340c7ecb"
      },
      "execution_count": 17,
      "outputs": [
        {
          "output_type": "stream",
          "name": "stdout",
          "text": [
            "set()\n"
          ]
        }
      ]
    },
    {
      "cell_type": "markdown",
      "source": [
        "**Remove the element 4 from the set {1,2,3,4}**"
      ],
      "metadata": {
        "id": "HBADoHV_oaPM"
      }
    },
    {
      "cell_type": "code",
      "source": [
        "a = {1,2,3,4}\n",
        "a.remove(4)\n",
        "print(a)"
      ],
      "metadata": {
        "colab": {
          "base_uri": "https://localhost:8080/"
        },
        "id": "NlsXjTnZobSy",
        "outputId": "d1efe029-8de2-43c3-ed81-f458fa59459f"
      },
      "execution_count": 18,
      "outputs": [
        {
          "output_type": "stream",
          "name": "stdout",
          "text": [
            "{1, 2, 3}\n"
          ]
        }
      ]
    },
    {
      "cell_type": "markdown",
      "source": [
        "**Find the union of {1,2,3} and {3,4,5}**"
      ],
      "metadata": {
        "id": "PrkCPHARobw-"
      }
    },
    {
      "cell_type": "code",
      "source": [
        "a = {1,2,3}\n",
        "b = {3,4,5}\n",
        "print(a.union(b))"
      ],
      "metadata": {
        "colab": {
          "base_uri": "https://localhost:8080/"
        },
        "id": "QbxmSLQ1ocKR",
        "outputId": "7d694591-7c76-49fc-ef42-d76e502c0c33"
      },
      "execution_count": 19,
      "outputs": [
        {
          "output_type": "stream",
          "name": "stdout",
          "text": [
            "{1, 2, 3, 4, 5}\n"
          ]
        }
      ]
    },
    {
      "cell_type": "markdown",
      "source": [
        "**Find the intersection of {1,2,3} and {2,3,4}**"
      ],
      "metadata": {
        "id": "rB8kQK6tocf7"
      }
    },
    {
      "cell_type": "code",
      "source": [
        "a = {1,2,3}\n",
        "b = {2,3,4}\n",
        "print(a.intersection(b))"
      ],
      "metadata": {
        "colab": {
          "base_uri": "https://localhost:8080/"
        },
        "id": "Xn-vsdJDodnR",
        "outputId": "7c1927ff-8f25-4f44-a951-03041d2401f2"
      },
      "execution_count": 20,
      "outputs": [
        {
          "output_type": "stream",
          "name": "stdout",
          "text": [
            "{2, 3}\n"
          ]
        }
      ]
    },
    {
      "cell_type": "markdown",
      "source": [
        "**Create a dictionary with keys 'name','age','city' and print it**"
      ],
      "metadata": {
        "id": "rXIpjNCmpFu8"
      }
    },
    {
      "cell_type": "code",
      "source": [
        "d = {'name':'Himanshi','age':26,'city':'delhi'}\n",
        "print(d)"
      ],
      "metadata": {
        "colab": {
          "base_uri": "https://localhost:8080/"
        },
        "id": "d7ZDVHHhpGFT",
        "outputId": "101e4ccd-cb42-4275-ded8-6605e57bb4ec"
      },
      "execution_count": 21,
      "outputs": [
        {
          "output_type": "stream",
          "name": "stdout",
          "text": [
            "{'name': 'Himanshi', 'age': 26, 'city': 'delhi'}\n"
          ]
        }
      ]
    },
    {
      "cell_type": "markdown",
      "source": [
        "**Add 'country':'USA' to {'name':'John','age':25}**"
      ],
      "metadata": {
        "id": "ZKqPkTRPpGkW"
      }
    },
    {
      "cell_type": "code",
      "source": [
        "d = {'name':'John','age':25}\n",
        "d['country'] = 'USA'\n",
        "print(d)"
      ],
      "metadata": {
        "colab": {
          "base_uri": "https://localhost:8080/"
        },
        "id": "NnFMOX5NpHAC",
        "outputId": "2ac2c4c7-6f55-45e2-c559-149b8879aabd"
      },
      "execution_count": 22,
      "outputs": [
        {
          "output_type": "stream",
          "name": "stdout",
          "text": [
            "{'name': 'John', 'age': 25, 'country': 'USA'}\n"
          ]
        }
      ]
    },
    {
      "cell_type": "markdown",
      "source": [
        "**Access value associated with 'name' in {'name':'Alice','age':30}**"
      ],
      "metadata": {
        "id": "N2_NOj_7pHVn"
      }
    },
    {
      "cell_type": "code",
      "source": [
        "d = {'name':'Alice','age':30}\n",
        "print(d['name'])"
      ],
      "metadata": {
        "colab": {
          "base_uri": "https://localhost:8080/"
        },
        "id": "QrPosMDrpHvb",
        "outputId": "df088cfa-f7e0-414d-a994-e1709f927e46"
      },
      "execution_count": 23,
      "outputs": [
        {
          "output_type": "stream",
          "name": "stdout",
          "text": [
            "Alice\n"
          ]
        }
      ]
    },
    {
      "cell_type": "markdown",
      "source": [
        "**Remove key 'age' from {'name':'Bob','age':22,'city':'New York'}**"
      ],
      "metadata": {
        "id": "wPjov7t9plgv"
      }
    },
    {
      "cell_type": "code",
      "source": [
        "d = {'name':'Bob','age':22,'city':'New York'}\n",
        "d.pop('age', None)\n",
        "print(d)"
      ],
      "metadata": {
        "colab": {
          "base_uri": "https://localhost:8080/"
        },
        "id": "ff4JEOQTpl4j",
        "outputId": "4d9d0d7f-1bd1-424b-cf03-716da9705763"
      },
      "execution_count": 24,
      "outputs": [
        {
          "output_type": "stream",
          "name": "stdout",
          "text": [
            "{'name': 'Bob', 'city': 'New York'}\n"
          ]
        }
      ]
    },
    {
      "cell_type": "markdown",
      "source": [
        "**Check if key 'city' exists in {'name':'Alice','city':'Paris'}**"
      ],
      "metadata": {
        "id": "uhRmfyG5pmWp"
      }
    },
    {
      "cell_type": "code",
      "source": [
        "d = {'name':'Alice','city':'Paris'}\n",
        "print('city' in d)"
      ],
      "metadata": {
        "colab": {
          "base_uri": "https://localhost:8080/"
        },
        "id": "UnLaDyBTpmuD",
        "outputId": "f6795987-6bc4-417e-84bb-60e89263f182"
      },
      "execution_count": 25,
      "outputs": [
        {
          "output_type": "stream",
          "name": "stdout",
          "text": [
            "True\n"
          ]
        }
      ]
    },
    {
      "cell_type": "markdown",
      "source": [
        "**Create a list, a tuple, and a dictionary, and print them all**"
      ],
      "metadata": {
        "id": "5MK1VBlCpnBf"
      }
    },
    {
      "cell_type": "code",
      "source": [
        "lst = [1,2,3]\n",
        "t = (4,5,6)\n",
        "d = {'a':1}\n",
        "print(lst, t, d)"
      ],
      "metadata": {
        "colab": {
          "base_uri": "https://localhost:8080/"
        },
        "id": "ADxPkDtnpndk",
        "outputId": "94e4e3c3-9ec2-42f6-d35f-41bdd91db63b"
      },
      "execution_count": 26,
      "outputs": [
        {
          "output_type": "stream",
          "name": "stdout",
          "text": [
            "[1, 2, 3] (4, 5, 6) {'a': 1}\n"
          ]
        }
      ]
    },
    {
      "cell_type": "markdown",
      "source": [
        "**Create a list of 5 random numbers between 1 and 100, sort it, and print**"
      ],
      "metadata": {
        "id": "g1HdKrOeqImC"
      }
    },
    {
      "cell_type": "code",
      "source": [
        "import random\n",
        "lst = random.sample(range(1,101), 5)\n",
        "lst.sort()\n",
        "print(lst)"
      ],
      "metadata": {
        "colab": {
          "base_uri": "https://localhost:8080/"
        },
        "id": "X_AgWnFTqNaU",
        "outputId": "45c157bf-a11e-4d70-dc2f-c345c562a812"
      },
      "execution_count": 27,
      "outputs": [
        {
          "output_type": "stream",
          "name": "stdout",
          "text": [
            "[22, 42, 78, 81, 99]\n"
          ]
        }
      ]
    },
    {
      "cell_type": "markdown",
      "source": [
        "**Create a list with strings and print the element at the third index**"
      ],
      "metadata": {
        "id": "m3d_V81IqSEF"
      }
    },
    {
      "cell_type": "code",
      "source": [
        "lst = ['one','two','three','four']\n",
        "print(lst[3])"
      ],
      "metadata": {
        "colab": {
          "base_uri": "https://localhost:8080/"
        },
        "id": "bUn_XgSHqVfl",
        "outputId": "8c752422-c46c-461a-cece-51729d92f617"
      },
      "execution_count": 28,
      "outputs": [
        {
          "output_type": "stream",
          "name": "stdout",
          "text": [
            "four\n"
          ]
        }
      ]
    },
    {
      "cell_type": "markdown",
      "source": [
        "**Combine two dictionaries into one and print the result**"
      ],
      "metadata": {
        "id": "HFn_-LedqW-Y"
      }
    },
    {
      "cell_type": "code",
      "source": [
        "d1 = {'a':1}\n",
        "d2 = {'b':2}\n",
        "d = {**d1, **d2}\n",
        "print(d)"
      ],
      "metadata": {
        "colab": {
          "base_uri": "https://localhost:8080/"
        },
        "id": "Igm8CqY5qXg8",
        "outputId": "c286cabc-6de3-4ebe-9c78-1fcbed7aca5a"
      },
      "execution_count": 30,
      "outputs": [
        {
          "output_type": "stream",
          "name": "stdout",
          "text": [
            "{'a': 1, 'b': 2}\n"
          ]
        }
      ]
    },
    {
      "cell_type": "markdown",
      "source": [
        "**Convert a list of strings into a set**"
      ],
      "metadata": {
        "id": "OCcmMVrqqX1d"
      }
    },
    {
      "cell_type": "code",
      "source": [
        "lst = ['a','b','a']\n",
        "print(set(lst))"
      ],
      "metadata": {
        "colab": {
          "base_uri": "https://localhost:8080/"
        },
        "id": "NsFjlH7GqYnC",
        "outputId": "4f3c797b-038b-4ff9-c425-93fa6a8036d1"
      },
      "execution_count": 29,
      "outputs": [
        {
          "output_type": "stream",
          "name": "stdout",
          "text": [
            "{'a', 'b'}\n"
          ]
        }
      ]
    }
  ]
}